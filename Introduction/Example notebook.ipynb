{
 "cells": [
  {
   "cell_type": "markdown",
   "metadata": {},
   "source": [
    "## Try me!\n",
    "\n",
    "This is a **markdown** cell. You can double-click on it to edit the contents.\n",
    "\n",
    "You can use markdown here to format text, such as by making it display as **bold**, *italic*, or `code`.\n",
    "\n",
    "Try making some edits! When you're done, click the **Run** button (above) or press **Shift + Enter** on your keyboard."
   ]
  },
  {
   "cell_type": "code",
   "execution_count": null,
   "metadata": {},
   "outputs": [],
   "source": [
    "# This is a code cell that will run Python 3 code!\n",
    "# Click the Run button (or press Shift + Enter) to see the output below\n",
    "print(\"hello world\")"
   ]
  },
  {
   "cell_type": "markdown",
   "metadata": {},
   "source": [
    "You can click the **+** button in the toolbar (above) to add new cells. Feel free to add as many markdown or code cells as you like!"
   ]
  },
  {
   "cell_type": "code",
   "execution_count": null,
   "metadata": {},
   "outputs": [],
   "source": []
  }
 ],
 "metadata": {
  "kernelspec": {
   "display_name": "Python 3",
   "language": "python",
   "name": "python3"
  },
  "language_info": {
   "codemirror_mode": {
    "name": "ipython",
    "version": 3
   },
   "file_extension": ".py",
   "mimetype": "text/x-python",
   "name": "python",
   "nbconvert_exporter": "python",
   "pygments_lexer": "ipython3",
   "version": "3.6.3"
  }
 },
 "nbformat": 4,
 "nbformat_minor": 2
}
