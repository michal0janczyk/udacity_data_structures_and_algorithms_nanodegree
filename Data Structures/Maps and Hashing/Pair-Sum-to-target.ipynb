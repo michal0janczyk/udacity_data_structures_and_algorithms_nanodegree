{
 "cells": [
  {
   "cell_type": "markdown",
   "metadata": {
    "graffitiCellId": "id_486zult"
   },
   "source": [
    "### Problem statement\n",
    "\n",
    "Given an `input_list` and a `target`, return the pair of indices in the list that holds the values which sum to the `target`. For example, \n",
    "\n",
    "`input_list = [1, 5, 9, 7]` and `target = 8`, the answer would be `[0, 3]` \n",
    "\n",
    "**Note**<br>\n",
    "1. The best solution takes O(n) time. *This means that you cannot traverse the given list more than once.* **Hint - Think of an additional data structure that you should use here.** \n",
    "2. You can assume that the list does not have any duplicates."
   ]
  },
  {
   "cell_type": "code",
   "execution_count": 14,
   "metadata": {
    "graffitiCellId": "id_fq96qkf"
   },
   "outputs": [],
   "source": [
    "def pair_sum_to_target(input_list, target):\n",
    "    # TODO: Write pair sum to target function\n",
    "    # Create a dictionary.\n",
    "    # Each element of the input_list would become a \"key\", and\n",
    "    # the corresponding index in the input_list would become the \"value\"\n",
    "    index_dict = dict()\n",
    "    for index, element in enumerate(input_list):\n",
    "#         print(index, element)\n",
    "        if (target - element) in index_dict:\n",
    "            return [index_dict[target - element], index]\n",
    "\n",
    "        index_dict[element] = index\n",
    "\n",
    "    return [-1,-1]      \n",
    "            \n",
    "            "
   ]
  },
  {
   "cell_type": "code",
   "execution_count": 15,
   "metadata": {
    "graffitiCellId": "id_gxkqfwu"
   },
   "outputs": [],
   "source": [
    "def test_function(test_case):\n",
    "    output = pair_sum_to_target(test_case[0], test_case[1])\n",
    "    print(output)\n",
    "    if sorted(output) == test_case[2]:\n",
    "        print(\"Pass\")\n",
    "    else:\n",
    "        print(\"Fail\")"
   ]
  },
  {
   "cell_type": "code",
   "execution_count": 16,
   "metadata": {
    "graffitiCellId": "id_fqo2ly7"
   },
   "outputs": [
    {
     "name": "stdout",
     "output_type": "stream",
     "text": [
      "[0, 3]\n",
      "Pass\n"
     ]
    }
   ],
   "source": [
    "test_case_1 = [[1, 5, 9, 7], 8, [0, 3]]\n",
    "test_function(test_case_1)"
   ]
  },
  {
   "cell_type": "code",
   "execution_count": 7,
   "metadata": {
    "graffitiCellId": "id_38rw3d3"
   },
   "outputs": [
    {
     "name": "stdout",
     "output_type": "stream",
     "text": [
      "None\n"
     ]
    },
    {
     "ename": "TypeError",
     "evalue": "'NoneType' object is not iterable",
     "output_type": "error",
     "traceback": [
      "\u001b[0;31m---------------------------------------------------------------------------\u001b[0m",
      "\u001b[0;31mTypeError\u001b[0m                                 Traceback (most recent call last)",
      "\u001b[0;32m<ipython-input-7-586d1d2012dc>\u001b[0m in \u001b[0;36m<module>\u001b[0;34m()\u001b[0m\n\u001b[1;32m      1\u001b[0m \u001b[0mtest_case_2\u001b[0m \u001b[0;34m=\u001b[0m \u001b[0;34m[\u001b[0m\u001b[0;34m[\u001b[0m\u001b[0;36m10\u001b[0m\u001b[0;34m,\u001b[0m \u001b[0;36m5\u001b[0m\u001b[0;34m,\u001b[0m \u001b[0;36m9\u001b[0m\u001b[0;34m,\u001b[0m \u001b[0;36m8\u001b[0m\u001b[0;34m,\u001b[0m \u001b[0;36m12\u001b[0m\u001b[0;34m,\u001b[0m \u001b[0;36m1\u001b[0m\u001b[0;34m,\u001b[0m \u001b[0;36m16\u001b[0m\u001b[0;34m,\u001b[0m \u001b[0;36m6\u001b[0m\u001b[0;34m]\u001b[0m\u001b[0;34m,\u001b[0m \u001b[0;36m16\u001b[0m\u001b[0;34m,\u001b[0m \u001b[0;34m[\u001b[0m\u001b[0;36m0\u001b[0m\u001b[0;34m,\u001b[0m \u001b[0;36m7\u001b[0m\u001b[0;34m]\u001b[0m\u001b[0;34m]\u001b[0m\u001b[0;34m\u001b[0m\u001b[0m\n\u001b[0;32m----> 2\u001b[0;31m \u001b[0mtest_function\u001b[0m\u001b[0;34m(\u001b[0m\u001b[0mtest_case_2\u001b[0m\u001b[0;34m)\u001b[0m\u001b[0;34m\u001b[0m\u001b[0m\n\u001b[0m",
      "\u001b[0;32m<ipython-input-5-1ccd512c8bb1>\u001b[0m in \u001b[0;36mtest_function\u001b[0;34m(test_case)\u001b[0m\n\u001b[1;32m      2\u001b[0m     \u001b[0moutput\u001b[0m \u001b[0;34m=\u001b[0m \u001b[0mpair_sum_to_target\u001b[0m\u001b[0;34m(\u001b[0m\u001b[0mtest_case\u001b[0m\u001b[0;34m[\u001b[0m\u001b[0;36m0\u001b[0m\u001b[0;34m]\u001b[0m\u001b[0;34m,\u001b[0m \u001b[0mtest_case\u001b[0m\u001b[0;34m[\u001b[0m\u001b[0;36m1\u001b[0m\u001b[0;34m]\u001b[0m\u001b[0;34m)\u001b[0m\u001b[0;34m\u001b[0m\u001b[0m\n\u001b[1;32m      3\u001b[0m     \u001b[0mprint\u001b[0m\u001b[0;34m(\u001b[0m\u001b[0moutput\u001b[0m\u001b[0;34m)\u001b[0m\u001b[0;34m\u001b[0m\u001b[0m\n\u001b[0;32m----> 4\u001b[0;31m     \u001b[0;32mif\u001b[0m \u001b[0msorted\u001b[0m\u001b[0;34m(\u001b[0m\u001b[0moutput\u001b[0m\u001b[0;34m)\u001b[0m \u001b[0;34m==\u001b[0m \u001b[0mtest_case\u001b[0m\u001b[0;34m[\u001b[0m\u001b[0;36m2\u001b[0m\u001b[0;34m]\u001b[0m\u001b[0;34m:\u001b[0m\u001b[0;34m\u001b[0m\u001b[0m\n\u001b[0m\u001b[1;32m      5\u001b[0m         \u001b[0mprint\u001b[0m\u001b[0;34m(\u001b[0m\u001b[0;34m\"Pass\"\u001b[0m\u001b[0;34m)\u001b[0m\u001b[0;34m\u001b[0m\u001b[0m\n\u001b[1;32m      6\u001b[0m     \u001b[0;32melse\u001b[0m\u001b[0;34m:\u001b[0m\u001b[0;34m\u001b[0m\u001b[0m\n",
      "\u001b[0;31mTypeError\u001b[0m: 'NoneType' object is not iterable"
     ]
    }
   ],
   "source": [
    "test_case_2 = [[10, 5, 9, 8, 12, 1, 16, 6], 16, [0, 7]]\n",
    "test_function(test_case_2)"
   ]
  },
  {
   "cell_type": "code",
   "execution_count": null,
   "metadata": {
    "graffitiCellId": "id_lrl4kfz"
   },
   "outputs": [],
   "source": [
    "test_case_3 = [[0, 1, 2, 3, -4], -4, [0, 4]]\n",
    "test_function(test_case_3)"
   ]
  },
  {
   "cell_type": "markdown",
   "metadata": {
    "graffitiCellId": "id_snm0ke6"
   },
   "source": [
    "<span class=\"graffiti-highlight graffiti-id_snm0ke6-id_tv0tye7\"><i></i><button>Hide Solution</button></span>"
   ]
  },
  {
   "cell_type": "code",
   "execution_count": null,
   "metadata": {
    "graffitiCellId": "id_tv0tye7"
   },
   "outputs": [],
   "source": [
    "def pair_sum_to_target(input_list, target):\n",
    "    \n",
    "    # Create a dictionary.\n",
    "    # Each element of the input_list would become a \"key\", and\n",
    "    # the corresponding index in the input_list would become the \"value\"\n",
    "    index_dict = dict()\n",
    "    \n",
    "    # Traverse through the input_list\n",
    "    for index, element in enumerate(input_list):\n",
    "        \n",
    "        # `in` is the way to test for the existence of a \"key\" in a dictionary\n",
    "        if (target - element) in index_dict:\n",
    "            \n",
    "            # Return the TWO indices that sum to the target\n",
    "            return [index_dict[target - element], index]\n",
    "\n",
    "        index_dict[element] = index\n",
    "\n",
    "    return [-1,-1]              # If the target is not achieved\n"
   ]
  }
 ],
 "metadata": {
  "graffiti": {
   "firstAuthorId": "10694620118",
   "id": "id_vvgwoq6",
   "language": "EN"
  },
  "kernelspec": {
   "display_name": "Python 3",
   "language": "python",
   "name": "python3"
  },
  "language_info": {
   "codemirror_mode": {
    "name": "ipython",
    "version": 3
   },
   "file_extension": ".py",
   "mimetype": "text/x-python",
   "name": "python",
   "nbconvert_exporter": "python",
   "pygments_lexer": "ipython3",
   "version": "3.6.3"
  }
 },
 "nbformat": 4,
 "nbformat_minor": 2
}
